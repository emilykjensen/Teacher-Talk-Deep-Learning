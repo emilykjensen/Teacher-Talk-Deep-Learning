{
 "cells": [
  {
   "cell_type": "markdown",
   "metadata": {},
   "source": [
    "Using TF 1.14 and Keras 2.2.4 - there are warnings but TF 2+ is difficult with Windows :/"
   ]
  },
  {
   "cell_type": "code",
   "execution_count": 1,
   "metadata": {},
   "outputs": [
    {
     "name": "stderr",
     "output_type": "stream",
     "text": [
      "Using TensorFlow backend.\n",
      "C:\\Users\\Chloe\\anaconda3\\lib\\site-packages\\tensorflow\\python\\framework\\dtypes.py:516: FutureWarning: Passing (type, 1) or '1type' as a synonym of type is deprecated; in a future version of numpy, it will be understood as (type, (1,)) / '(1,)type'.\n",
      "  _np_qint8 = np.dtype([(\"qint8\", np.int8, 1)])\n",
      "C:\\Users\\Chloe\\anaconda3\\lib\\site-packages\\tensorflow\\python\\framework\\dtypes.py:517: FutureWarning: Passing (type, 1) or '1type' as a synonym of type is deprecated; in a future version of numpy, it will be understood as (type, (1,)) / '(1,)type'.\n",
      "  _np_quint8 = np.dtype([(\"quint8\", np.uint8, 1)])\n",
      "C:\\Users\\Chloe\\anaconda3\\lib\\site-packages\\tensorflow\\python\\framework\\dtypes.py:518: FutureWarning: Passing (type, 1) or '1type' as a synonym of type is deprecated; in a future version of numpy, it will be understood as (type, (1,)) / '(1,)type'.\n",
      "  _np_qint16 = np.dtype([(\"qint16\", np.int16, 1)])\n",
      "C:\\Users\\Chloe\\anaconda3\\lib\\site-packages\\tensorflow\\python\\framework\\dtypes.py:519: FutureWarning: Passing (type, 1) or '1type' as a synonym of type is deprecated; in a future version of numpy, it will be understood as (type, (1,)) / '(1,)type'.\n",
      "  _np_quint16 = np.dtype([(\"quint16\", np.uint16, 1)])\n",
      "C:\\Users\\Chloe\\anaconda3\\lib\\site-packages\\tensorflow\\python\\framework\\dtypes.py:520: FutureWarning: Passing (type, 1) or '1type' as a synonym of type is deprecated; in a future version of numpy, it will be understood as (type, (1,)) / '(1,)type'.\n",
      "  _np_qint32 = np.dtype([(\"qint32\", np.int32, 1)])\n",
      "C:\\Users\\Chloe\\anaconda3\\lib\\site-packages\\tensorflow\\python\\framework\\dtypes.py:525: FutureWarning: Passing (type, 1) or '1type' as a synonym of type is deprecated; in a future version of numpy, it will be understood as (type, (1,)) / '(1,)type'.\n",
      "  np_resource = np.dtype([(\"resource\", np.ubyte, 1)])\n",
      "C:\\Users\\Chloe\\anaconda3\\lib\\site-packages\\tensorboard\\compat\\tensorflow_stub\\dtypes.py:541: FutureWarning: Passing (type, 1) or '1type' as a synonym of type is deprecated; in a future version of numpy, it will be understood as (type, (1,)) / '(1,)type'.\n",
      "  _np_qint8 = np.dtype([(\"qint8\", np.int8, 1)])\n",
      "C:\\Users\\Chloe\\anaconda3\\lib\\site-packages\\tensorboard\\compat\\tensorflow_stub\\dtypes.py:542: FutureWarning: Passing (type, 1) or '1type' as a synonym of type is deprecated; in a future version of numpy, it will be understood as (type, (1,)) / '(1,)type'.\n",
      "  _np_quint8 = np.dtype([(\"quint8\", np.uint8, 1)])\n",
      "C:\\Users\\Chloe\\anaconda3\\lib\\site-packages\\tensorboard\\compat\\tensorflow_stub\\dtypes.py:543: FutureWarning: Passing (type, 1) or '1type' as a synonym of type is deprecated; in a future version of numpy, it will be understood as (type, (1,)) / '(1,)type'.\n",
      "  _np_qint16 = np.dtype([(\"qint16\", np.int16, 1)])\n",
      "C:\\Users\\Chloe\\anaconda3\\lib\\site-packages\\tensorboard\\compat\\tensorflow_stub\\dtypes.py:544: FutureWarning: Passing (type, 1) or '1type' as a synonym of type is deprecated; in a future version of numpy, it will be understood as (type, (1,)) / '(1,)type'.\n",
      "  _np_quint16 = np.dtype([(\"quint16\", np.uint16, 1)])\n",
      "C:\\Users\\Chloe\\anaconda3\\lib\\site-packages\\tensorboard\\compat\\tensorflow_stub\\dtypes.py:545: FutureWarning: Passing (type, 1) or '1type' as a synonym of type is deprecated; in a future version of numpy, it will be understood as (type, (1,)) / '(1,)type'.\n",
      "  _np_qint32 = np.dtype([(\"qint32\", np.int32, 1)])\n",
      "C:\\Users\\Chloe\\anaconda3\\lib\\site-packages\\tensorboard\\compat\\tensorflow_stub\\dtypes.py:550: FutureWarning: Passing (type, 1) or '1type' as a synonym of type is deprecated; in a future version of numpy, it will be understood as (type, (1,)) / '(1,)type'.\n",
      "  np_resource = np.dtype([(\"resource\", np.ubyte, 1)])\n"
     ]
    }
   ],
   "source": [
    "from __future__ import print_function\n",
    "import pandas as pd\n",
    "import numpy as np\n",
    "from keras.preprocessing import sequence\n",
    "from keras.models import Sequential\n",
    "from keras.layers import Dense, Embedding, Dropout, LSTM\n",
    "from keras.preprocessing.text import Tokenizer\n",
    "from keras.preprocessing.sequence import pad_sequences"
   ]
  },
  {
   "cell_type": "code",
   "execution_count": 2,
   "metadata": {},
   "outputs": [],
   "source": [
    "data = pd.read_csv('utterance-data-with-labels-binary.csv')"
   ]
  },
  {
   "cell_type": "code",
   "execution_count": 3,
   "metadata": {},
   "outputs": [
    {
     "data": {
      "text/html": [
       "<div>\n",
       "<style scoped>\n",
       "    .dataframe tbody tr th:only-of-type {\n",
       "        vertical-align: middle;\n",
       "    }\n",
       "\n",
       "    .dataframe tbody tr th {\n",
       "        vertical-align: top;\n",
       "    }\n",
       "\n",
       "    .dataframe thead th {\n",
       "        text-align: right;\n",
       "    }\n",
       "</style>\n",
       "<table border=\"1\" class=\"dataframe\">\n",
       "  <thead>\n",
       "    <tr style=\"text-align: right;\">\n",
       "      <th></th>\n",
       "      <th>ObsID</th>\n",
       "      <th>UtteranceID</th>\n",
       "      <th>TeacherID</th>\n",
       "      <th>TranscribedUtterance</th>\n",
       "      <th>IsQuestion</th>\n",
       "      <th>IsInstructionalUtterance</th>\n",
       "      <th>IsInstructionalStatement</th>\n",
       "      <th>IsDisciplinaryUtterance</th>\n",
       "      <th>IsDisciplinaryStatement</th>\n",
       "      <th>IsEvaluationFollowupIncluded</th>\n",
       "      <th>...</th>\n",
       "      <th>CombinedAuthCogUptake</th>\n",
       "      <th>CogLevel</th>\n",
       "      <th>Uptake</th>\n",
       "      <th>IsGoalSpecified</th>\n",
       "      <th>IsDisciplinaryTermsPresent</th>\n",
       "      <th>IsInstructionalQuestion</th>\n",
       "      <th>IsDisciplinaryQuestion</th>\n",
       "      <th>IsStudentResponsePresent</th>\n",
       "      <th>Authenticity</th>\n",
       "      <th>IsSerialQuestion</th>\n",
       "    </tr>\n",
       "  </thead>\n",
       "  <tbody>\n",
       "    <tr>\n",
       "      <th>0</th>\n",
       "      <td>sch01_tch01_03_19_18_period03</td>\n",
       "      <td>1</td>\n",
       "      <td>sch01_tch01</td>\n",
       "      <td>oh you mean the</td>\n",
       "      <td>1</td>\n",
       "      <td>1</td>\n",
       "      <td>0</td>\n",
       "      <td>1</td>\n",
       "      <td>0</td>\n",
       "      <td>0</td>\n",
       "      <td>...</td>\n",
       "      <td>0</td>\n",
       "      <td>0</td>\n",
       "      <td>0</td>\n",
       "      <td>0</td>\n",
       "      <td>0</td>\n",
       "      <td>1</td>\n",
       "      <td>1</td>\n",
       "      <td>0</td>\n",
       "      <td>0</td>\n",
       "      <td>0</td>\n",
       "    </tr>\n",
       "    <tr>\n",
       "      <th>1</th>\n",
       "      <td>sch01_tch01_03_19_18_period03</td>\n",
       "      <td>101</td>\n",
       "      <td>sch01_tch01</td>\n",
       "      <td>thank you somebody</td>\n",
       "      <td>1</td>\n",
       "      <td>1</td>\n",
       "      <td>0</td>\n",
       "      <td>0</td>\n",
       "      <td>0</td>\n",
       "      <td>0</td>\n",
       "      <td>...</td>\n",
       "      <td>0</td>\n",
       "      <td>0</td>\n",
       "      <td>0</td>\n",
       "      <td>0</td>\n",
       "      <td>0</td>\n",
       "      <td>1</td>\n",
       "      <td>0</td>\n",
       "      <td>0</td>\n",
       "      <td>0</td>\n",
       "      <td>0</td>\n",
       "    </tr>\n",
       "    <tr>\n",
       "      <th>2</th>\n",
       "      <td>sch01_tch01_03_19_18_period03</td>\n",
       "      <td>102</td>\n",
       "      <td>sch01_tch01</td>\n",
       "      <td>so I'll need some some help reading it</td>\n",
       "      <td>0</td>\n",
       "      <td>1</td>\n",
       "      <td>1</td>\n",
       "      <td>1</td>\n",
       "      <td>1</td>\n",
       "      <td>0</td>\n",
       "      <td>...</td>\n",
       "      <td>0</td>\n",
       "      <td>0</td>\n",
       "      <td>0</td>\n",
       "      <td>0</td>\n",
       "      <td>0</td>\n",
       "      <td>0</td>\n",
       "      <td>0</td>\n",
       "      <td>0</td>\n",
       "      <td>0</td>\n",
       "      <td>0</td>\n",
       "    </tr>\n",
       "    <tr>\n",
       "      <th>3</th>\n",
       "      <td>sch01_tch01_03_19_18_period03</td>\n",
       "      <td>103</td>\n",
       "      <td>sch01_tch01</td>\n",
       "      <td>you will have died from walking across the str...</td>\n",
       "      <td>0</td>\n",
       "      <td>0</td>\n",
       "      <td>0</td>\n",
       "      <td>0</td>\n",
       "      <td>0</td>\n",
       "      <td>0</td>\n",
       "      <td>...</td>\n",
       "      <td>0</td>\n",
       "      <td>0</td>\n",
       "      <td>0</td>\n",
       "      <td>0</td>\n",
       "      <td>0</td>\n",
       "      <td>0</td>\n",
       "      <td>0</td>\n",
       "      <td>0</td>\n",
       "      <td>0</td>\n",
       "      <td>0</td>\n",
       "    </tr>\n",
       "    <tr>\n",
       "      <th>4</th>\n",
       "      <td>sch01_tch01_03_19_18_period03</td>\n",
       "      <td>104</td>\n",
       "      <td>sch01_tch01</td>\n",
       "      <td>get a very good soil goes into like that aware...</td>\n",
       "      <td>0</td>\n",
       "      <td>1</td>\n",
       "      <td>1</td>\n",
       "      <td>1</td>\n",
       "      <td>1</td>\n",
       "      <td>1</td>\n",
       "      <td>...</td>\n",
       "      <td>0</td>\n",
       "      <td>0</td>\n",
       "      <td>0</td>\n",
       "      <td>0</td>\n",
       "      <td>0</td>\n",
       "      <td>0</td>\n",
       "      <td>0</td>\n",
       "      <td>0</td>\n",
       "      <td>0</td>\n",
       "      <td>0</td>\n",
       "    </tr>\n",
       "  </tbody>\n",
       "</table>\n",
       "<p>5 rows × 22 columns</p>\n",
       "</div>"
      ],
      "text/plain": [
       "                           ObsID  UtteranceID    TeacherID  \\\n",
       "0  sch01_tch01_03_19_18_period03            1  sch01_tch01   \n",
       "1  sch01_tch01_03_19_18_period03          101  sch01_tch01   \n",
       "2  sch01_tch01_03_19_18_period03          102  sch01_tch01   \n",
       "3  sch01_tch01_03_19_18_period03          103  sch01_tch01   \n",
       "4  sch01_tch01_03_19_18_period03          104  sch01_tch01   \n",
       "\n",
       "                                TranscribedUtterance  IsQuestion  \\\n",
       "0                                   oh you mean the            1   \n",
       "1                                thank you somebody            1   \n",
       "2            so I'll need some some help reading it            0   \n",
       "3  you will have died from walking across the str...           0   \n",
       "4  get a very good soil goes into like that aware...           0   \n",
       "\n",
       "   IsInstructionalUtterance  IsInstructionalStatement  \\\n",
       "0                         1                         0   \n",
       "1                         1                         0   \n",
       "2                         1                         1   \n",
       "3                         0                         0   \n",
       "4                         1                         1   \n",
       "\n",
       "   IsDisciplinaryUtterance  IsDisciplinaryStatement  \\\n",
       "0                        1                        0   \n",
       "1                        0                        0   \n",
       "2                        1                        1   \n",
       "3                        0                        0   \n",
       "4                        1                        1   \n",
       "\n",
       "   IsEvaluationFollowupIncluded  ...  CombinedAuthCogUptake  CogLevel  Uptake  \\\n",
       "0                             0  ...                      0         0       0   \n",
       "1                             0  ...                      0         0       0   \n",
       "2                             0  ...                      0         0       0   \n",
       "3                             0  ...                      0         0       0   \n",
       "4                             1  ...                      0         0       0   \n",
       "\n",
       "   IsGoalSpecified  IsDisciplinaryTermsPresent  IsInstructionalQuestion  \\\n",
       "0                0                           0                        1   \n",
       "1                0                           0                        1   \n",
       "2                0                           0                        0   \n",
       "3                0                           0                        0   \n",
       "4                0                           0                        0   \n",
       "\n",
       "   IsDisciplinaryQuestion  IsStudentResponsePresent  Authenticity  \\\n",
       "0                       1                         0             0   \n",
       "1                       0                         0             0   \n",
       "2                       0                         0             0   \n",
       "3                       0                         0             0   \n",
       "4                       0                         0             0   \n",
       "\n",
       "   IsSerialQuestion  \n",
       "0                 0  \n",
       "1                 0  \n",
       "2                 0  \n",
       "3                 0  \n",
       "4                 0  \n",
       "\n",
       "[5 rows x 22 columns]"
      ]
     },
     "execution_count": 3,
     "metadata": {},
     "output_type": "execute_result"
    }
   ],
   "source": [
    "data.head()"
   ]
  },
  {
   "cell_type": "code",
   "execution_count": 4,
   "metadata": {},
   "outputs": [],
   "source": [
    "utterances = data['TranscribedUtterance']"
   ]
  },
  {
   "cell_type": "markdown",
   "metadata": {},
   "source": [
    "**Variables to include:** 'IsInstructionalUtterance', 'IsQuestion', 'Authenticity', 'IsEvaluationElaborated', 'CogLevel', 'IsGoalSpecified', 'IsDisciplinaryTermsPresent'"
   ]
  },
  {
   "cell_type": "code",
   "execution_count": 5,
   "metadata": {},
   "outputs": [],
   "source": [
    "data = data.drop(['IsInstructionalStatement','IsDisciplinaryUtterance','IsDisciplinaryStatement','IsEvaluationFollowupIncluded','IsEvaluationValencePositive','CombinedAuthCogUptake','Uptake','IsInstructionalQuestion', 'IsDisciplinaryQuestion','IsStudentResponsePresent','IsSerialQuestion'], axis=1)"
   ]
  },
  {
   "cell_type": "code",
   "execution_count": 6,
   "metadata": {},
   "outputs": [
    {
     "data": {
      "text/plain": [
       "Index(['ObsID', 'UtteranceID', 'TeacherID', 'TranscribedUtterance',\n",
       "       'IsQuestion', 'IsInstructionalUtterance', 'IsEvaluationElaborated',\n",
       "       'CogLevel', 'IsGoalSpecified', 'IsDisciplinaryTermsPresent',\n",
       "       'Authenticity'],\n",
       "      dtype='object')"
      ]
     },
     "execution_count": 6,
     "metadata": {},
     "output_type": "execute_result"
    }
   ],
   "source": [
    "data.columns"
   ]
  },
  {
   "cell_type": "code",
   "execution_count": 7,
   "metadata": {},
   "outputs": [
    {
     "name": "stdout",
     "output_type": "stream",
     "text": [
      "(16977, 7)\n"
     ]
    }
   ],
   "source": [
    "respList = np.array([list(data.iloc[0,4:])])\n",
    "for i in range(1,len(data)):\n",
    "    respList = np.append(respList, [list(data.iloc[i,4:])], axis=0)\n",
    "print(respList.shape)"
   ]
  },
  {
   "cell_type": "code",
   "execution_count": 8,
   "metadata": {},
   "outputs": [],
   "source": [
    "docs = list(utterances.values)"
   ]
  },
  {
   "cell_type": "code",
   "execution_count": 9,
   "metadata": {},
   "outputs": [],
   "source": [
    "# tokenize\n",
    "t = Tokenizer()\n",
    "t.fit_on_texts(docs)\n",
    "vocab_size = len(t.word_index) + 1\n",
    "# integer encode the sequences\n",
    "encoded_docs = t.texts_to_sequences(docs)"
   ]
  },
  {
   "cell_type": "code",
   "execution_count": 10,
   "metadata": {},
   "outputs": [
    {
     "data": {
      "text/plain": [
       "(array([1.5543e+04, 9.5300e+02, 2.7300e+02, 1.0100e+02, 5.4000e+01,\n",
       "        2.2000e+01, 7.0000e+00, 5.0000e+00, 4.0000e+00, 2.0000e+00,\n",
       "        3.0000e+00, 3.0000e+00, 2.0000e+00, 0.0000e+00, 0.0000e+00,\n",
       "        1.0000e+00, 1.0000e+00, 1.0000e+00, 0.0000e+00, 0.0000e+00,\n",
       "        1.0000e+00, 0.0000e+00, 0.0000e+00, 0.0000e+00, 0.0000e+00,\n",
       "        0.0000e+00, 0.0000e+00, 0.0000e+00, 0.0000e+00, 0.0000e+00,\n",
       "        0.0000e+00, 0.0000e+00, 0.0000e+00, 0.0000e+00, 0.0000e+00,\n",
       "        0.0000e+00, 0.0000e+00, 0.0000e+00, 0.0000e+00, 1.0000e+00]),\n",
       " array([1.000e+00, 5.700e+01, 1.130e+02, 1.690e+02, 2.250e+02, 2.810e+02,\n",
       "        3.370e+02, 3.930e+02, 4.490e+02, 5.050e+02, 5.610e+02, 6.170e+02,\n",
       "        6.730e+02, 7.290e+02, 7.850e+02, 8.410e+02, 8.970e+02, 9.530e+02,\n",
       "        1.009e+03, 1.065e+03, 1.121e+03, 1.177e+03, 1.233e+03, 1.289e+03,\n",
       "        1.345e+03, 1.401e+03, 1.457e+03, 1.513e+03, 1.569e+03, 1.625e+03,\n",
       "        1.681e+03, 1.737e+03, 1.793e+03, 1.849e+03, 1.905e+03, 1.961e+03,\n",
       "        2.017e+03, 2.073e+03, 2.129e+03, 2.185e+03, 2.241e+03]),\n",
       " <a list of 40 Patch objects>)"
      ]
     },
     "execution_count": 10,
     "metadata": {},
     "output_type": "execute_result"
    },
    {
     "data": {
      "image/png": "[encoded data removed]",
      "text/plain": [
       "<Figure size 432x288 with 1 Axes>"
      ]
     },
     "metadata": {
      "needs_background": "light"
     },
     "output_type": "display_data"
    }
   ],
   "source": [
    "# find longest utterance\n",
    "utterance_lengths = []\n",
    "for i in range(len(encoded_docs)):\n",
    "    utterance_lengths.append(len(encoded_docs[i]))\n",
    "\n",
    "# histogram of utterance length\n",
    "import matplotlib.pyplot as plt\n",
    "fig, axs = plt.subplots(1, 1, tight_layout=True)\n",
    "axs.hist(utterance_lengths, bins=40)"
   ]
  },
  {
   "cell_type": "code",
   "execution_count": 11,
   "metadata": {},
   "outputs": [],
   "source": [
    "# pad documents to max length\n",
    "padded_docs_init = pad_sequences(encoded_docs, maxlen=max(utterance_lengths), padding='post')\n",
    "# trim to 100 words\n",
    "padded_docs = pad_sequences(padded_docs_init, maxlen=100, truncating='post')"
   ]
  },
  {
   "cell_type": "code",
   "execution_count": 12,
   "metadata": {},
   "outputs": [
    {
     "name": "stdout",
     "output_type": "stream",
     "text": [
      "(13581, 100) train sequences\n",
      "(3396, 100) test sequences\n"
     ]
    }
   ],
   "source": [
    "from sklearn.model_selection import train_test_split\n",
    "X_train, X_test, y_train, y_test = train_test_split(padded_docs, respList, test_size=0.2, random_state=45)\n",
    "print(X_train.shape, 'train sequences')\n",
    "print(X_test.shape, 'test sequences')"
   ]
  },
  {
   "cell_type": "code",
   "execution_count": 13,
   "metadata": {},
   "outputs": [
    {
     "name": "stdout",
     "output_type": "stream",
     "text": [
      "WARNING:tensorflow:From C:\\Users\\Chloe\\anaconda3\\lib\\site-packages\\keras\\backend\\tensorflow_backend.py:74: The name tf.get_default_graph is deprecated. Please use tf.compat.v1.get_default_graph instead.\n",
      "\n",
      "WARNING:tensorflow:From C:\\Users\\Chloe\\anaconda3\\lib\\site-packages\\keras\\backend\\tensorflow_backend.py:517: The name tf.placeholder is deprecated. Please use tf.compat.v1.placeholder instead.\n",
      "\n",
      "WARNING:tensorflow:From C:\\Users\\Chloe\\anaconda3\\lib\\site-packages\\keras\\backend\\tensorflow_backend.py:4138: The name tf.random_uniform is deprecated. Please use tf.random.uniform instead.\n",
      "\n",
      "WARNING:tensorflow:From C:\\Users\\Chloe\\anaconda3\\lib\\site-packages\\keras\\backend\\tensorflow_backend.py:133: The name tf.placeholder_with_default is deprecated. Please use tf.compat.v1.placeholder_with_default instead.\n",
      "\n",
      "WARNING:tensorflow:From C:\\Users\\Chloe\\anaconda3\\lib\\site-packages\\keras\\backend\\tensorflow_backend.py:3445: calling dropout (from tensorflow.python.ops.nn_ops) with keep_prob is deprecated and will be removed in a future version.\n",
      "Instructions for updating:\n",
      "Please use `rate` instead of `keep_prob`. Rate should be set to `rate = 1 - keep_prob`.\n"
     ]
    }
   ],
   "source": [
    "#build model\n",
    "max_features = 50000\n",
    "\n",
    "model = Sequential()\n",
    "model.add(Embedding(max_features, 64, input_length=100))\n",
    "model.add(LSTM(64, dropout=0.2, recurrent_dropout=0.2))\n",
    "model.add(Dense(64, activation='relu'))\n",
    "model.add(Dropout(0.2))\n",
    "model.add(Dense(32, activation='relu'))\n",
    "model.add(Dropout(0.2))\n",
    "model.add(Dense(7, activation='sigmoid'))"
   ]
  },
  {
   "cell_type": "code",
   "execution_count": 14,
   "metadata": {},
   "outputs": [
    {
     "name": "stdout",
     "output_type": "stream",
     "text": [
      "_________________________________________________________________\n",
      "Layer (type)                 Output Shape              Param #   \n",
      "=================================================================\n",
      "embedding_1 (Embedding)      (None, 100, 64)           3200000   \n",
      "_________________________________________________________________\n",
      "lstm_1 (LSTM)                (None, 64)                33024     \n",
      "_________________________________________________________________\n",
      "dense_1 (Dense)              (None, 64)                4160      \n",
      "_________________________________________________________________\n",
      "dropout_1 (Dropout)          (None, 64)                0         \n",
      "_________________________________________________________________\n",
      "dense_2 (Dense)              (None, 32)                2080      \n",
      "_________________________________________________________________\n",
      "dropout_2 (Dropout)          (None, 32)                0         \n",
      "_________________________________________________________________\n",
      "dense_3 (Dense)              (None, 7)                 231       \n",
      "=================================================================\n",
      "Total params: 3,239,495\n",
      "Trainable params: 3,239,495\n",
      "Non-trainable params: 0\n",
      "_________________________________________________________________\n"
     ]
    }
   ],
   "source": [
    "model.summary()"
   ]
  },
  {
   "cell_type": "code",
   "execution_count": 15,
   "metadata": {},
   "outputs": [
    {
     "name": "stdout",
     "output_type": "stream",
     "text": [
      "WARNING:tensorflow:From C:\\Users\\Chloe\\anaconda3\\lib\\site-packages\\keras\\optimizers.py:790: The name tf.train.Optimizer is deprecated. Please use tf.compat.v1.train.Optimizer instead.\n",
      "\n",
      "WARNING:tensorflow:From C:\\Users\\Chloe\\anaconda3\\lib\\site-packages\\keras\\backend\\tensorflow_backend.py:3376: The name tf.log is deprecated. Please use tf.math.log instead.\n",
      "\n",
      "WARNING:tensorflow:From C:\\Users\\Chloe\\anaconda3\\lib\\site-packages\\tensorflow\\python\\ops\\nn_impl.py:180: add_dispatch_support.<locals>.wrapper (from tensorflow.python.ops.array_ops) is deprecated and will be removed in a future version.\n",
      "Instructions for updating:\n",
      "Use tf.where in 2.0, which has the same broadcast rule as np.where\n",
      "Train...\n",
      "Train on 13581 samples, validate on 3396 samples\n",
      "Epoch 1/20\n",
      "13581/13581 [==============================] - 1029s 76ms/step - loss: 0.3340 - acc: 0.8799 - val_loss: 0.3193 - val_acc: 0.8856\n",
      "Epoch 2/20\n",
      "13581/13581 [==============================] - 1019s 75ms/step - loss: 0.3216 - acc: 0.8810 - val_loss: 0.3038 - val_acc: 0.8856\n",
      "Epoch 3/20\n",
      "13581/13581 [==============================] - 1009s 74ms/step - loss: 0.3118 - acc: 0.8810 - val_loss: 0.2981 - val_acc: 0.8856\n",
      "Epoch 4/20\n",
      "13581/13581 [==============================] - 1016s 75ms/step - loss: 0.3094 - acc: 0.8810 - val_loss: 0.2968 - val_acc: 0.8856\n",
      "Epoch 5/20\n",
      "13581/13581 [==============================] - 1022s 75ms/step - loss: 0.3061 - acc: 0.8810 - val_loss: 0.2964 - val_acc: 0.8856\n",
      "Epoch 6/20\n",
      "13581/13581 [==============================] - 1028s 76ms/step - loss: 0.3057 - acc: 0.8810 - val_loss: 0.2988 - val_acc: 0.8856\n",
      "Epoch 7/20\n",
      "13581/13581 [==============================] - 1026s 76ms/step - loss: 0.3047 - acc: 0.8810 - val_loss: 0.2967 - val_acc: 0.8856\n",
      "Epoch 8/20\n",
      "13581/13581 [==============================] - 1017s 75ms/step - loss: 0.3082 - acc: 0.8810 - val_loss: 0.2997 - val_acc: 0.8856\n",
      "Epoch 9/20\n",
      "13581/13581 [==============================] - 1018s 75ms/step - loss: 0.3055 - acc: 0.8810 - val_loss: 0.3021 - val_acc: 0.8856\n",
      "Epoch 10/20\n",
      "13581/13581 [==============================] - 1014s 75ms/step - loss: 0.3098 - acc: 0.8810 - val_loss: 0.2984 - val_acc: 0.8856\n",
      "Epoch 11/20\n",
      "13581/13581 [==============================] - 1019s 75ms/step - loss: 0.3115 - acc: 0.8810 - val_loss: 0.3109 - val_acc: 0.8856\n",
      "Epoch 12/20\n",
      "13581/13581 [==============================] - 1034s 76ms/step - loss: 0.3151 - acc: 0.8810 - val_loss: 0.3030 - val_acc: 0.8856\n",
      "Epoch 13/20\n",
      "13581/13581 [==============================] - 1018s 75ms/step - loss: 0.3066 - acc: 0.8810 - val_loss: 0.3033 - val_acc: 0.8856\n",
      "Epoch 14/20\n",
      "13581/13581 [==============================] - 1028s 76ms/step - loss: 0.3113 - acc: 0.8810 - val_loss: 0.3133 - val_acc: 0.8856\n",
      "Epoch 15/20\n",
      "13581/13581 [==============================] - 1017s 75ms/step - loss: 0.3107 - acc: 0.8810 - val_loss: 0.3008 - val_acc: 0.8856\n",
      "Epoch 16/20\n",
      "13581/13581 [==============================] - 1019s 75ms/step - loss: 0.3142 - acc: 0.8810 - val_loss: 0.3088 - val_acc: 0.8856\n",
      "Epoch 17/20\n",
      "13581/13581 [==============================] - 1016s 75ms/step - loss: 0.3104 - acc: 0.8810 - val_loss: 0.3031 - val_acc: 0.8856\n",
      "Epoch 18/20\n",
      "13581/13581 [==============================] - 1014s 75ms/step - loss: 0.3113 - acc: 0.8811 - val_loss: 0.3073 - val_acc: 0.8856\n",
      "Epoch 19/20\n",
      "13581/13581 [==============================] - 1015s 75ms/step - loss: 0.3086 - acc: 0.8812 - val_loss: 0.3102 - val_acc: 0.8855\n",
      "Epoch 20/20\n",
      "13581/13581 [==============================] - 1021s 75ms/step - loss: 0.3094 - acc: 0.8813 - val_loss: 0.3064 - val_acc: 0.8856\n",
      "3396/3396 [==============================] - 19s 6ms/step\n",
      "Test score: 0.306444063414112\n",
      "Test accuracy: 0.8856217599308253\n"
     ]
    }
   ],
   "source": [
    "#train model\n",
    "batchsz = 4\n",
    "model.compile(loss='binary_crossentropy', optimizer='adadelta', metrics=['accuracy'])\n",
    "\n",
    "print('Train...')\n",
    "model.fit(X_train, y_train, batch_size=batchsz, epochs=20, validation_data=(X_test, y_test), shuffle=True)\n",
    "score, acc = model.evaluate(X_test, y_test,batch_size=batchsz)\n",
    "print('Test score:', score)\n",
    "print('Test accuracy:', acc)"
   ]
  },
  {
   "cell_type": "code",
   "execution_count": 16,
   "metadata": {},
   "outputs": [],
   "source": [
    "y_pred = model.predict(X_test)"
   ]
  },
  {
   "cell_type": "code",
   "execution_count": 17,
   "metadata": {},
   "outputs": [
    {
     "name": "stdout",
     "output_type": "stream",
     "text": [
      "0.6493408468565836\n"
     ]
    }
   ],
   "source": [
    "from sklearn.metrics import roc_auc_score\n",
    "auc = roc_auc_score(y_test, y_pred, multi_class='ovr') #change to 'ovo'\n",
    "print(auc)"
   ]
  },
  {
   "cell_type": "code",
   "execution_count": 36,
   "metadata": {},
   "outputs": [
    {
     "name": "stdout",
     "output_type": "stream",
     "text": [
      "IsQuestion  acc:  0.5769982027993465  roc:  0.5432855881267196\n",
      "IsInstructionalUtterance  acc:  0.7266109760574233  roc:  0.6096532612610469\n",
      "IsEvaluationElaborated  acc:  0.8670412039360113  roc:  0.6238970255613329\n",
      "CogLevel  acc:  0.9332272699640272  roc:  0.7149314003784808\n",
      "IsGoalSpecified  acc:  0.8369712679349632  roc:  0.774821772418852\n",
      "IsDisciplinaryTermsPresent  acc:  0.8242710757346822  roc:  0.7337885935955375\n",
      "Authenticity acc:  0.9063522678452189  roc:  0.5450082866541153\n"
     ]
    }
   ],
   "source": [
    "print('IsQuestion  acc: ',1-sum(abs(y_test[:,0] - y_pred[:,0]))/len(y_test),' roc: ', roc_auc_score(y_test[:,0], y_pred[:,0]))\n",
    "print('IsInstructionalUtterance  acc: ',1-sum(abs(y_test[:,1] - y_pred[:,1]))/len(y_test),' roc: ', roc_auc_score(y_test[:,1], y_pred[:,1]))\n",
    "print('IsEvaluationElaborated  acc: ',1-sum(abs(y_test[:,2] - y_pred[:,2]))/len(y_test),' roc: ', roc_auc_score(y_test[:,2], y_pred[:,2]))\n",
    "print('CogLevel  acc: ',1-sum(abs(y_test[:,3] - y_pred[:,3]))/len(y_test),' roc: ', roc_auc_score(y_test[:,3], y_pred[:,3]))\n",
    "print('IsGoalSpecified  acc: ',1-sum(abs(y_test[:,4] - y_pred[:,4]))/len(y_test),' roc: ', roc_auc_score(y_test[:,4], y_pred[:,4]))\n",
    "print('IsDisciplinaryTermsPresent  acc: ',1-sum(abs(y_test[:,5] - y_pred[:,5]))/len(y_test),' roc: ', roc_auc_score(y_test[:,5], y_pred[:,5]))\n",
    "print('Authenticity acc: ',1-sum(abs(y_test[:,6] - y_pred[:,6]))/len(y_test),' roc: ', roc_auc_score(y_test[:,6], y_pred[:,6]))"
   ]
  },
  {
   "cell_type": "code",
   "execution_count": null,
   "metadata": {},
   "outputs": [],
   "source": []
  }
 ],
 "metadata": {
  "kernelspec": {
   "display_name": "Python 3",
   "language": "python",
   "name": "python3"
  },
  "language_info": {
   "codemirror_mode": {
    "name": "ipython",
    "version": 3
   },
   "file_extension": ".py",
   "mimetype": "text/x-python",
   "name": "python",
   "nbconvert_exporter": "python",
   "pygments_lexer": "ipython3",
   "version": "3.6.10"
  }
 },
 "nbformat": 4,
 "nbformat_minor": 2
}
