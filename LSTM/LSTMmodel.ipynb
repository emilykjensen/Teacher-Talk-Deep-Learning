{
 "cells": [
  {
   "cell_type": "markdown",
   "metadata": {},
   "source": [
    "Using TF 1.14 and Keras 2.2.4 - there are warnings but TF 2+ is difficult with Windows :/"
   ]
  },
  {
   "cell_type": "code",
   "execution_count": 1,
   "metadata": {},
   "outputs": [
    {
     "name": "stderr",
     "output_type": "stream",
     "text": [
      "Using TensorFlow backend.\n",
      "C:\\Users\\Chloe\\anaconda3\\lib\\site-packages\\tensorflow\\python\\framework\\dtypes.py:516: FutureWarning: Passing (type, 1) or '1type' as a synonym of type is deprecated; in a future version of numpy, it will be understood as (type, (1,)) / '(1,)type'.\n",
      "  _np_qint8 = np.dtype([(\"qint8\", np.int8, 1)])\n",
      "C:\\Users\\Chloe\\anaconda3\\lib\\site-packages\\tensorflow\\python\\framework\\dtypes.py:517: FutureWarning: Passing (type, 1) or '1type' as a synonym of type is deprecated; in a future version of numpy, it will be understood as (type, (1,)) / '(1,)type'.\n",
      "  _np_quint8 = np.dtype([(\"quint8\", np.uint8, 1)])\n",
      "C:\\Users\\Chloe\\anaconda3\\lib\\site-packages\\tensorflow\\python\\framework\\dtypes.py:518: FutureWarning: Passing (type, 1) or '1type' as a synonym of type is deprecated; in a future version of numpy, it will be understood as (type, (1,)) / '(1,)type'.\n",
      "  _np_qint16 = np.dtype([(\"qint16\", np.int16, 1)])\n",
      "C:\\Users\\Chloe\\anaconda3\\lib\\site-packages\\tensorflow\\python\\framework\\dtypes.py:519: FutureWarning: Passing (type, 1) or '1type' as a synonym of type is deprecated; in a future version of numpy, it will be understood as (type, (1,)) / '(1,)type'.\n",
      "  _np_quint16 = np.dtype([(\"quint16\", np.uint16, 1)])\n",
      "C:\\Users\\Chloe\\anaconda3\\lib\\site-packages\\tensorflow\\python\\framework\\dtypes.py:520: FutureWarning: Passing (type, 1) or '1type' as a synonym of type is deprecated; in a future version of numpy, it will be understood as (type, (1,)) / '(1,)type'.\n",
      "  _np_qint32 = np.dtype([(\"qint32\", np.int32, 1)])\n",
      "C:\\Users\\Chloe\\anaconda3\\lib\\site-packages\\tensorflow\\python\\framework\\dtypes.py:525: FutureWarning: Passing (type, 1) or '1type' as a synonym of type is deprecated; in a future version of numpy, it will be understood as (type, (1,)) / '(1,)type'.\n",
      "  np_resource = np.dtype([(\"resource\", np.ubyte, 1)])\n",
      "C:\\Users\\Chloe\\anaconda3\\lib\\site-packages\\tensorboard\\compat\\tensorflow_stub\\dtypes.py:541: FutureWarning: Passing (type, 1) or '1type' as a synonym of type is deprecated; in a future version of numpy, it will be understood as (type, (1,)) / '(1,)type'.\n",
      "  _np_qint8 = np.dtype([(\"qint8\", np.int8, 1)])\n",
      "C:\\Users\\Chloe\\anaconda3\\lib\\site-packages\\tensorboard\\compat\\tensorflow_stub\\dtypes.py:542: FutureWarning: Passing (type, 1) or '1type' as a synonym of type is deprecated; in a future version of numpy, it will be understood as (type, (1,)) / '(1,)type'.\n",
      "  _np_quint8 = np.dtype([(\"quint8\", np.uint8, 1)])\n",
      "C:\\Users\\Chloe\\anaconda3\\lib\\site-packages\\tensorboard\\compat\\tensorflow_stub\\dtypes.py:543: FutureWarning: Passing (type, 1) or '1type' as a synonym of type is deprecated; in a future version of numpy, it will be understood as (type, (1,)) / '(1,)type'.\n",
      "  _np_qint16 = np.dtype([(\"qint16\", np.int16, 1)])\n",
      "C:\\Users\\Chloe\\anaconda3\\lib\\site-packages\\tensorboard\\compat\\tensorflow_stub\\dtypes.py:544: FutureWarning: Passing (type, 1) or '1type' as a synonym of type is deprecated; in a future version of numpy, it will be understood as (type, (1,)) / '(1,)type'.\n",
      "  _np_quint16 = np.dtype([(\"quint16\", np.uint16, 1)])\n",
      "C:\\Users\\Chloe\\anaconda3\\lib\\site-packages\\tensorboard\\compat\\tensorflow_stub\\dtypes.py:545: FutureWarning: Passing (type, 1) or '1type' as a synonym of type is deprecated; in a future version of numpy, it will be understood as (type, (1,)) / '(1,)type'.\n",
      "  _np_qint32 = np.dtype([(\"qint32\", np.int32, 1)])\n",
      "C:\\Users\\Chloe\\anaconda3\\lib\\site-packages\\tensorboard\\compat\\tensorflow_stub\\dtypes.py:550: FutureWarning: Passing (type, 1) or '1type' as a synonym of type is deprecated; in a future version of numpy, it will be understood as (type, (1,)) / '(1,)type'.\n",
      "  np_resource = np.dtype([(\"resource\", np.ubyte, 1)])\n"
     ]
    }
   ],
   "source": [
    "from __future__ import print_function\n",
    "import pandas as pd\n",
    "import numpy as np\n",
    "from keras.preprocessing import sequence\n",
    "from keras.models import Sequential\n",
    "from keras.layers import Dense, Embedding\n",
    "from keras.layers import LSTM\n",
    "from keras.preprocessing.text import Tokenizer\n",
    "from keras.preprocessing.sequence import pad_sequences"
   ]
  },
  {
   "cell_type": "code",
   "execution_count": 36,
   "metadata": {},
   "outputs": [],
   "source": [
    "data = pd.read_csv('utterance-data-with-labels-binary.csv')"
   ]
  },
  {
   "cell_type": "code",
   "execution_count": 37,
   "metadata": {},
   "outputs": [
    {
     "data": {
      "text/html": [
       "<div>\n",
       "<style scoped>\n",
       "    .dataframe tbody tr th:only-of-type {\n",
       "        vertical-align: middle;\n",
       "    }\n",
       "\n",
       "    .dataframe tbody tr th {\n",
       "        vertical-align: top;\n",
       "    }\n",
       "\n",
       "    .dataframe thead th {\n",
       "        text-align: right;\n",
       "    }\n",
       "</style>\n",
       "<table border=\"1\" class=\"dataframe\">\n",
       "  <thead>\n",
       "    <tr style=\"text-align: right;\">\n",
       "      <th></th>\n",
       "      <th>ObsID</th>\n",
       "      <th>UtteranceID</th>\n",
       "      <th>TeacherID</th>\n",
       "      <th>TranscribedUtterance</th>\n",
       "      <th>IsQuestion</th>\n",
       "      <th>IsInstructionalUtterance</th>\n",
       "      <th>IsInstructionalStatement</th>\n",
       "      <th>IsDisciplinaryUtterance</th>\n",
       "      <th>IsDisciplinaryStatement</th>\n",
       "      <th>IsEvaluationFollowupIncluded</th>\n",
       "      <th>...</th>\n",
       "      <th>CombinedAuthCogUptake</th>\n",
       "      <th>CogLevel</th>\n",
       "      <th>Uptake</th>\n",
       "      <th>IsGoalSpecified</th>\n",
       "      <th>IsDisciplinaryTermsPresent</th>\n",
       "      <th>IsInstructionalQuestion</th>\n",
       "      <th>IsDisciplinaryQuestion</th>\n",
       "      <th>IsStudentResponsePresent</th>\n",
       "      <th>Authenticity</th>\n",
       "      <th>IsSerialQuestion</th>\n",
       "    </tr>\n",
       "  </thead>\n",
       "  <tbody>\n",
       "    <tr>\n",
       "      <th>0</th>\n",
       "      <td>sch01_tch01_03_19_18_period03</td>\n",
       "      <td>1</td>\n",
       "      <td>sch01_tch01</td>\n",
       "      <td>oh you mean the</td>\n",
       "      <td>1</td>\n",
       "      <td>1</td>\n",
       "      <td>0</td>\n",
       "      <td>1</td>\n",
       "      <td>0</td>\n",
       "      <td>0</td>\n",
       "      <td>...</td>\n",
       "      <td>0</td>\n",
       "      <td>0</td>\n",
       "      <td>0</td>\n",
       "      <td>0</td>\n",
       "      <td>0</td>\n",
       "      <td>1</td>\n",
       "      <td>1</td>\n",
       "      <td>0</td>\n",
       "      <td>0</td>\n",
       "      <td>0</td>\n",
       "    </tr>\n",
       "    <tr>\n",
       "      <th>1</th>\n",
       "      <td>sch01_tch01_03_19_18_period03</td>\n",
       "      <td>101</td>\n",
       "      <td>sch01_tch01</td>\n",
       "      <td>thank you somebody</td>\n",
       "      <td>1</td>\n",
       "      <td>1</td>\n",
       "      <td>0</td>\n",
       "      <td>0</td>\n",
       "      <td>0</td>\n",
       "      <td>0</td>\n",
       "      <td>...</td>\n",
       "      <td>0</td>\n",
       "      <td>0</td>\n",
       "      <td>0</td>\n",
       "      <td>0</td>\n",
       "      <td>0</td>\n",
       "      <td>1</td>\n",
       "      <td>0</td>\n",
       "      <td>0</td>\n",
       "      <td>0</td>\n",
       "      <td>0</td>\n",
       "    </tr>\n",
       "    <tr>\n",
       "      <th>2</th>\n",
       "      <td>sch01_tch01_03_19_18_period03</td>\n",
       "      <td>102</td>\n",
       "      <td>sch01_tch01</td>\n",
       "      <td>so I'll need some some help reading it</td>\n",
       "      <td>0</td>\n",
       "      <td>1</td>\n",
       "      <td>1</td>\n",
       "      <td>1</td>\n",
       "      <td>1</td>\n",
       "      <td>0</td>\n",
       "      <td>...</td>\n",
       "      <td>0</td>\n",
       "      <td>0</td>\n",
       "      <td>0</td>\n",
       "      <td>0</td>\n",
       "      <td>0</td>\n",
       "      <td>0</td>\n",
       "      <td>0</td>\n",
       "      <td>0</td>\n",
       "      <td>0</td>\n",
       "      <td>0</td>\n",
       "    </tr>\n",
       "    <tr>\n",
       "      <th>3</th>\n",
       "      <td>sch01_tch01_03_19_18_period03</td>\n",
       "      <td>103</td>\n",
       "      <td>sch01_tch01</td>\n",
       "      <td>you will have died from walking across the str...</td>\n",
       "      <td>0</td>\n",
       "      <td>0</td>\n",
       "      <td>0</td>\n",
       "      <td>0</td>\n",
       "      <td>0</td>\n",
       "      <td>0</td>\n",
       "      <td>...</td>\n",
       "      <td>0</td>\n",
       "      <td>0</td>\n",
       "      <td>0</td>\n",
       "      <td>0</td>\n",
       "      <td>0</td>\n",
       "      <td>0</td>\n",
       "      <td>0</td>\n",
       "      <td>0</td>\n",
       "      <td>0</td>\n",
       "      <td>0</td>\n",
       "    </tr>\n",
       "    <tr>\n",
       "      <th>4</th>\n",
       "      <td>sch01_tch01_03_19_18_period03</td>\n",
       "      <td>104</td>\n",
       "      <td>sch01_tch01</td>\n",
       "      <td>get a very good soil goes into like that aware...</td>\n",
       "      <td>0</td>\n",
       "      <td>1</td>\n",
       "      <td>1</td>\n",
       "      <td>1</td>\n",
       "      <td>1</td>\n",
       "      <td>1</td>\n",
       "      <td>...</td>\n",
       "      <td>0</td>\n",
       "      <td>0</td>\n",
       "      <td>0</td>\n",
       "      <td>0</td>\n",
       "      <td>0</td>\n",
       "      <td>0</td>\n",
       "      <td>0</td>\n",
       "      <td>0</td>\n",
       "      <td>0</td>\n",
       "      <td>0</td>\n",
       "    </tr>\n",
       "  </tbody>\n",
       "</table>\n",
       "<p>5 rows × 22 columns</p>\n",
       "</div>"
      ],
      "text/plain": [
       "                           ObsID  UtteranceID    TeacherID  \\\n",
       "0  sch01_tch01_03_19_18_period03            1  sch01_tch01   \n",
       "1  sch01_tch01_03_19_18_period03          101  sch01_tch01   \n",
       "2  sch01_tch01_03_19_18_period03          102  sch01_tch01   \n",
       "3  sch01_tch01_03_19_18_period03          103  sch01_tch01   \n",
       "4  sch01_tch01_03_19_18_period03          104  sch01_tch01   \n",
       "\n",
       "                                TranscribedUtterance  IsQuestion  \\\n",
       "0                                   oh you mean the            1   \n",
       "1                                thank you somebody            1   \n",
       "2            so I'll need some some help reading it            0   \n",
       "3  you will have died from walking across the str...           0   \n",
       "4  get a very good soil goes into like that aware...           0   \n",
       "\n",
       "   IsInstructionalUtterance  IsInstructionalStatement  \\\n",
       "0                         1                         0   \n",
       "1                         1                         0   \n",
       "2                         1                         1   \n",
       "3                         0                         0   \n",
       "4                         1                         1   \n",
       "\n",
       "   IsDisciplinaryUtterance  IsDisciplinaryStatement  \\\n",
       "0                        1                        0   \n",
       "1                        0                        0   \n",
       "2                        1                        1   \n",
       "3                        0                        0   \n",
       "4                        1                        1   \n",
       "\n",
       "   IsEvaluationFollowupIncluded  ...  CombinedAuthCogUptake  CogLevel  Uptake  \\\n",
       "0                             0  ...                      0         0       0   \n",
       "1                             0  ...                      0         0       0   \n",
       "2                             0  ...                      0         0       0   \n",
       "3                             0  ...                      0         0       0   \n",
       "4                             1  ...                      0         0       0   \n",
       "\n",
       "   IsGoalSpecified  IsDisciplinaryTermsPresent  IsInstructionalQuestion  \\\n",
       "0                0                           0                        1   \n",
       "1                0                           0                        1   \n",
       "2                0                           0                        0   \n",
       "3                0                           0                        0   \n",
       "4                0                           0                        0   \n",
       "\n",
       "   IsDisciplinaryQuestion  IsStudentResponsePresent  Authenticity  \\\n",
       "0                       1                         0             0   \n",
       "1                       0                         0             0   \n",
       "2                       0                         0             0   \n",
       "3                       0                         0             0   \n",
       "4                       0                         0             0   \n",
       "\n",
       "   IsSerialQuestion  \n",
       "0                 0  \n",
       "1                 0  \n",
       "2                 0  \n",
       "3                 0  \n",
       "4                 0  \n",
       "\n",
       "[5 rows x 22 columns]"
      ]
     },
     "execution_count": 37,
     "metadata": {},
     "output_type": "execute_result"
    }
   ],
   "source": [
    "data.head()"
   ]
  },
  {
   "cell_type": "code",
   "execution_count": 38,
   "metadata": {},
   "outputs": [],
   "source": [
    "utterances = data['TranscribedUtterance']"
   ]
  },
  {
   "cell_type": "markdown",
   "metadata": {},
   "source": [
    "**Variables to include:** 'IsInstructionalUtterance', 'IsQuestion', 'Authenticity', 'IsEvaluationElaborated', 'CogLevel', 'IsGoalSpecified', 'IsDisciplinaryTermsPresent'"
   ]
  },
  {
   "cell_type": "code",
   "execution_count": 39,
   "metadata": {},
   "outputs": [],
   "source": [
    "data = data.drop(['IsInstructionalStatement','IsDisciplinaryUtterance','IsDisciplinaryStatement','IsEvaluationFollowupIncluded','IsEvaluationValencePositive','CombinedAuthCogUptake','Uptake','IsInstructionalQuestion', 'IsDisciplinaryQuestion','IsStudentResponsePresent','IsSerialQuestion'], axis=1)"
   ]
  },
  {
   "cell_type": "code",
   "execution_count": 40,
   "metadata": {},
   "outputs": [
    {
     "data": {
      "text/plain": [
       "Index(['ObsID', 'UtteranceID', 'TeacherID', 'TranscribedUtterance',\n",
       "       'IsQuestion', 'IsInstructionalUtterance', 'IsEvaluationElaborated',\n",
       "       'CogLevel', 'IsGoalSpecified', 'IsDisciplinaryTermsPresent',\n",
       "       'Authenticity'],\n",
       "      dtype='object')"
      ]
     },
     "execution_count": 40,
     "metadata": {},
     "output_type": "execute_result"
    }
   ],
   "source": [
    "data.columns"
   ]
  },
  {
   "cell_type": "code",
   "execution_count": 41,
   "metadata": {},
   "outputs": [
    {
     "name": "stdout",
     "output_type": "stream",
     "text": [
      "(16977, 7)\n"
     ]
    }
   ],
   "source": [
    "respList = np.array([list(data.iloc[0,4:])])\n",
    "for i in range(1,len(data)):\n",
    "    respList = np.append(respList, [list(data.iloc[i,4:])], axis=0)\n",
    "print(respList.shape)"
   ]
  },
  {
   "cell_type": "code",
   "execution_count": 42,
   "metadata": {},
   "outputs": [],
   "source": [
    "docs = list(utterances.values)"
   ]
  },
  {
   "cell_type": "code",
   "execution_count": 43,
   "metadata": {},
   "outputs": [],
   "source": [
    "# tokenize\n",
    "t = Tokenizer()\n",
    "t.fit_on_texts(docs)\n",
    "vocab_size = len(t.word_index) + 1\n",
    "# integer encode the sequences\n",
    "encoded_docs = t.texts_to_sequences(docs)"
   ]
  },
  {
   "cell_type": "code",
   "execution_count": 44,
   "metadata": {},
   "outputs": [
    {
     "data": {
      "text/plain": [
       "(array([1.6496e+04, 3.7400e+02, 7.6000e+01, 1.2000e+01, 6.0000e+00,\n",
       "        6.0000e+00, 2.0000e+00, 1.0000e+00, 2.0000e+00, 0.0000e+00,\n",
       "        1.0000e+00, 0.0000e+00, 0.0000e+00, 0.0000e+00, 0.0000e+00,\n",
       "        0.0000e+00, 0.0000e+00, 0.0000e+00, 0.0000e+00, 1.0000e+00]),\n",
       " array([1.000e+00, 1.130e+02, 2.250e+02, 3.370e+02, 4.490e+02, 5.610e+02,\n",
       "        6.730e+02, 7.850e+02, 8.970e+02, 1.009e+03, 1.121e+03, 1.233e+03,\n",
       "        1.345e+03, 1.457e+03, 1.569e+03, 1.681e+03, 1.793e+03, 1.905e+03,\n",
       "        2.017e+03, 2.129e+03, 2.241e+03]),\n",
       " <a list of 20 Patch objects>)"
      ]
     },
     "execution_count": 44,
     "metadata": {},
     "output_type": "execute_result"
    },
    {
     "data": {
      "image/png": "[encoded data removed]",
      "text/plain": [
       "<Figure size 432x288 with 1 Axes>"
      ]
     },
     "metadata": {
      "needs_background": "light"
     },
     "output_type": "display_data"
    }
   ],
   "source": [
    "# find longest utterance\n",
    "utterance_lengths = []\n",
    "for i in range(len(encoded_docs)):\n",
    "    utterance_lengths.append(len(encoded_docs[i]))\n",
    "\n",
    "# histogram of utterance length\n",
    "import matplotlib.pyplot as plt\n",
    "fig, axs = plt.subplots(1, 1, tight_layout=True)\n",
    "axs.hist(utterance_lengths, bins=20)"
   ]
  },
  {
   "cell_type": "code",
   "execution_count": 45,
   "metadata": {},
   "outputs": [],
   "source": [
    "# pad documents to max length\n",
    "padded_docs_init = pad_sequences(encoded_docs, maxlen=max(utterance_lengths), padding='post')\n",
    "# trim to 300 words\n",
    "padded_docs = pad_sequences(padded_docs_init, maxlen=300, truncating='post')"
   ]
  },
  {
   "cell_type": "code",
   "execution_count": 46,
   "metadata": {},
   "outputs": [
    {
     "name": "stdout",
     "output_type": "stream",
     "text": [
      "(13581, 300) train sequences\n",
      "(3396, 300) test sequences\n"
     ]
    }
   ],
   "source": [
    "from sklearn.model_selection import train_test_split\n",
    "X_train, X_test, y_train, y_test = train_test_split(padded_docs, respList, test_size=0.2)\n",
    "print(X_train.shape, 'train sequences')\n",
    "print(X_test.shape, 'test sequences')"
   ]
  },
  {
   "cell_type": "code",
   "execution_count": 23,
   "metadata": {},
   "outputs": [],
   "source": [
    "#build model\n",
    "max_features = 50000\n",
    "batch_size = 32\n",
    "\n",
    "model = Sequential()\n",
    "model.add(Embedding(max_features, 128, input_length=300))\n",
    "model.add(LSTM(128, dropout=0.2, recurrent_dropout=0.2))\n",
    "model.add(Dense(7, activation='sigmoid'))"
   ]
  },
  {
   "cell_type": "code",
   "execution_count": 34,
   "metadata": {},
   "outputs": [
    {
     "name": "stdout",
     "output_type": "stream",
     "text": [
      "_________________________________________________________________\n",
      "Layer (type)                 Output Shape              Param #   \n",
      "=================================================================\n",
      "embedding_2 (Embedding)      (None, 300, 128)          6400000   \n",
      "_________________________________________________________________\n",
      "lstm_2 (LSTM)                (None, 128)               131584    \n",
      "_________________________________________________________________\n",
      "dense_2 (Dense)              (None, 7)                 903       \n",
      "=================================================================\n",
      "Total params: 6,532,487\n",
      "Trainable params: 6,532,487\n",
      "Non-trainable params: 0\n",
      "_________________________________________________________________\n"
     ]
    }
   ],
   "source": [
    "model.summary()"
   ]
  },
  {
   "cell_type": "code",
   "execution_count": 25,
   "metadata": {},
   "outputs": [
    {
     "name": "stdout",
     "output_type": "stream",
     "text": [
      "Train...\n",
      "Train on 13581 samples, validate on 3396 samples\n",
      "Epoch 1/5\n",
      "13581/13581 [==============================] - 657s 48ms/step - loss: 0.3819 - acc: 0.8231 - val_loss: 0.3787 - val_acc: 0.8232\n",
      "Epoch 2/5\n",
      "13581/13581 [==============================] - 649s 48ms/step - loss: 0.3818 - acc: 0.8237 - val_loss: 0.3775 - val_acc: 0.8274\n",
      "Epoch 3/5\n",
      "13581/13581 [==============================] - 649s 48ms/step - loss: 0.3815 - acc: 0.8225 - val_loss: 0.3776 - val_acc: 0.8274\n",
      "Epoch 4/5\n",
      "13581/13581 [==============================] - 693s 51ms/step - loss: 0.3814 - acc: 0.8225 - val_loss: 0.3773 - val_acc: 0.8274\n",
      "Epoch 5/5\n",
      "13581/13581 [==============================] - 644s 47ms/step - loss: 0.3812 - acc: 0.8232 - val_loss: 0.3770 - val_acc: 0.8274\n",
      "3396/3396 [==============================] - 24s 7ms/step\n",
      "Test score: 0.37703018169521024\n",
      "Test accuracy: 0.8273599593602867\n"
     ]
    }
   ],
   "source": [
    "#train model\n",
    "model.compile(loss='binary_crossentropy', optimizer='adam', metrics=['accuracy'])\n",
    "\n",
    "print('Train...')\n",
    "model.fit(X_train, y_train, batch_size=32, epochs=5, validation_data=(X_test, y_test))\n",
    "score, acc = model.evaluate(X_test, y_test,batch_size=32)\n",
    "print('Test score:', score)\n",
    "print('Test accuracy:', acc)"
   ]
  },
  {
   "cell_type": "code",
   "execution_count": 31,
   "metadata": {},
   "outputs": [],
   "source": [
    "y_pred = model.predict(X_test)"
   ]
  },
  {
   "cell_type": "code",
   "execution_count": 33,
   "metadata": {},
   "outputs": [
    {
     "data": {
      "text/plain": [
       "array([[0.30345616, 0.7981721 , 0.5198138 , ..., 0.03027797, 0.09021932,\n",
       "        0.04560289],\n",
       "       [0.30345616, 0.7981721 , 0.5198138 , ..., 0.03027797, 0.09021932,\n",
       "        0.04560289],\n",
       "       [0.30345616, 0.7981721 , 0.5198138 , ..., 0.03027797, 0.09021932,\n",
       "        0.04560289],\n",
       "       ...,\n",
       "       [0.30345616, 0.7981721 , 0.5198138 , ..., 0.03027797, 0.09021938,\n",
       "        0.04560289],\n",
       "       [0.30345613, 0.7981721 , 0.5198138 , ..., 0.03027797, 0.09021938,\n",
       "        0.04560289],\n",
       "       [0.30345616, 0.7981721 , 0.5198138 , ..., 0.03027797, 0.09021938,\n",
       "        0.04560289]], dtype=float32)"
      ]
     },
     "execution_count": 33,
     "metadata": {},
     "output_type": "execute_result"
    }
   ],
   "source": [
    "y_pred"
   ]
  },
  {
   "cell_type": "code",
   "execution_count": 28,
   "metadata": {
    "scrolled": true
   },
   "outputs": [
    {
     "data": {
      "text/plain": [
       "array([[  87,    0,    0, ...,    0,    0,    0],\n",
       "       [   4,  194, 2899, ...,    0,    0,    0],\n",
       "       [   9,   19,  154, ...,    0,    0,    0],\n",
       "       ...,\n",
       "       [ 306,   58,   20, ...,    0,    0,    0],\n",
       "       [ 155,   16,  162, ...,    0,    0,    0],\n",
       "       [  31,   74,   51, ...,    0,    0,    0]])"
      ]
     },
     "execution_count": 28,
     "metadata": {},
     "output_type": "execute_result"
    }
   ],
   "source": [
    "X_test"
   ]
  }
 ],
 "metadata": {
  "kernelspec": {
   "display_name": "Python 3",
   "language": "python",
   "name": "python3"
  },
  "language_info": {
   "codemirror_mode": {
    "name": "ipython",
    "version": 3
   },
   "file_extension": ".py",
   "mimetype": "text/x-python",
   "name": "python",
   "nbconvert_exporter": "python",
   "pygments_lexer": "ipython3",
   "version": "3.6.10"
  }
 },
 "nbformat": 4,
 "nbformat_minor": 2
}
